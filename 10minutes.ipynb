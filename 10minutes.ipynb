{
 "cells": [
  {
   "cell_type": "code",
   "execution_count": null,
   "metadata": {
    "collapsed": true
   },
   "outputs": [],
   "source": [
    "help(5)\n",
    "dir(5)\n",
    "abs.__doc__"
   ]
  },
  {
   "cell_type": "markdown",
   "metadata": {},
   "source": [
    "Python n'a aucune instruction obligatoire pour terminer les caractères et les blocs sont spécifiés par indentation.Les instructions qui attendent un niveau d'indentation se terminent en deux points (:).Les commentaires commencent par le signe (#) et sont composés d'une seule ligne, les chaînes multi-lignes sont utilisées pour les commentaires multilignes.Les valeurs sont assignées (en fait, les objets sont liés aux noms) avec le signe égal (\"=\"), et le test d'égalité est effectué en utilisant deux signes égaux (\"==\").Vous pouvez incrémenter / décrémenter des valeurs en utilisant les opérateurs + = et - = respectivement par le montant de droite"
   ]
  },
  {
   "cell_type": "code",
   "execution_count": 8,
   "metadata": {
    "collapsed": false
   },
   "outputs": [
    {
     "data": {
      "text/plain": [
       "5"
      ]
     },
     "execution_count": 8,
     "metadata": {},
     "output_type": "execute_result"
    }
   ],
   "source": [
    "myvar = 3\n",
    "myvar += 2\n",
    "myvar"
   ]
  },
  {
   "cell_type": "code",
   "execution_count": 9,
   "metadata": {
    "collapsed": false
   },
   "outputs": [
    {
     "data": {
      "text/plain": [
       "4"
      ]
     },
     "execution_count": 9,
     "metadata": {},
     "output_type": "execute_result"
    }
   ],
   "source": [
    "myvar -= 1\n",
    "myvar"
   ]
  },
  {
   "cell_type": "code",
   "execution_count": 11,
   "metadata": {
    "collapsed": false
   },
   "outputs": [
    {
     "data": {
      "text/plain": [
       "'Hello world.'"
      ]
     },
     "execution_count": 11,
     "metadata": {},
     "output_type": "execute_result"
    }
   ],
   "source": [
    "\"\"\"Ceci est un commentaire multiligne.\n",
    "Les lignes suivantes concatènent les deux chaînes.\"\"\"\n",
    "mystring = \"Hello\"\n",
    "mystring += \" world.\"\n",
    "mystring"
   ]
  },
  {
   "cell_type": "code",
   "execution_count": 12,
   "metadata": {
    "collapsed": true
   },
   "outputs": [],
   "source": [
    "# Ceci permute les variables dans une ligne (!).\n",
    "# cela ne viole pas le fort typage car les valeurs ne sont pas affectées\n",
    "# mais les nouveaux objets sont liés aux anciens noms\n",
    "\n",
    "myvar,mystring = mystring,myvar "
   ]
  },
  {
   "cell_type": "markdown",
   "metadata": {},
   "source": [
    "Les structures de données disponibles en python sont des listes, des tuples et des dictionnaires"
   ]
  },
  {
   "cell_type": "code",
   "execution_count": 15,
   "metadata": {
    "collapsed": false
   },
   "outputs": [
    {
     "name": "stdout",
     "output_type": "stream",
     "text": [
      "3\n"
     ]
    }
   ],
   "source": [
    "sample = [1, [\"another\", \"list\"], (\"a\", \"tuple\")]\n",
    "mylist = [\"List item 1\", 2, 3.14]\n",
    "mylist[0] = \"List item 1 again\" # Nous changeons l'objet.\n",
    "mylist[-1] = 3.21 # ICI, nous nous referrons au dernier objet.\n",
    "mydict = {\"Key 1\": \"Value 1\", 2: 3, \"pi\": 3.14}\n",
    "mydict[\"pi\"] = 3.15 #c'est ainsi que l'on modifie les valeurs du dictionnaire\n",
    "mytuple = (1, 2, 3)\n",
    "myfunction = len\n",
    "print (myfunction(mylist))"
   ]
  },
  {
   "cell_type": "markdown",
   "metadata": {},
   "source": [
    "Vous pouvez accéder aux plages de tableau à l'aide de deux points (:). En laissant l'index de départ vide fait supposer le premier élément, laissant l'index final supposer le dernier élément. Les indices négatifs comptent à partir du dernier élément vers l'arrière (donc -1 est le dernier élément) comme suit:"
   ]
  },
  {
   "cell_type": "code",
   "execution_count": 17,
   "metadata": {
    "collapsed": false
   },
   "outputs": [
    {
     "data": {
      "text/plain": [
       "['List item 1', 2, 3.14]"
      ]
     },
     "execution_count": 17,
     "metadata": {},
     "output_type": "execute_result"
    }
   ],
   "source": [
    "mylist = [\"List item 1\", 2, 3.14]\n",
    "print (mylist[:])"
   ]
  },
  {
   "cell_type": "code",
   "execution_count": 19,
   "metadata": {
    "collapsed": false
   },
   "outputs": [
    {
     "name": "stdout",
     "output_type": "stream",
     "text": [
      "['List item 1', 2]\n"
     ]
    }
   ],
   "source": [
    "print (mylist[0:2])"
   ]
  },
  {
   "cell_type": "code",
   "execution_count": 20,
   "metadata": {
    "collapsed": false
   },
   "outputs": [
    {
     "name": "stdout",
     "output_type": "stream",
     "text": [
      "['List item 1', 2]\n"
     ]
    }
   ],
   "source": [
    "print (mylist[-3:-1])"
   ]
  },
  {
   "cell_type": "code",
   "execution_count": 21,
   "metadata": {
    "collapsed": false
   },
   "outputs": [
    {
     "name": "stdout",
     "output_type": "stream",
     "text": [
      "[2, 3.14]\n"
     ]
    }
   ],
   "source": [
    "print (mylist[1:])"
   ]
  },
  {
   "cell_type": "code",
   "execution_count": 23,
   "metadata": {
    "collapsed": false
   },
   "outputs": [
    {
     "name": "stdout",
     "output_type": "stream",
     "text": [
      "['List item 1', 3.14]\n"
     ]
    }
   ],
   "source": [
    "#En ajoutant un troisième paramètre, \"step\" aura l'étape Python en incréments de \n",
    "#N points, plutôt que 1.\n",
    "#Par exemple, ceci retourne le premier élément, puis passe au troisième et\n",
    "#Retournez (donc, les éléments 0 et 2 dans l'indexation-0).\n",
    "print (mylist[::2])"
   ]
  },
  {
   "cell_type": "markdown",
   "metadata": {},
   "source": [
    "Strings\n",
    "Its strings can use either single or double quotation marks, and you can have quotation marks of one kind inside a string that uses the other kind (i.e. \"He said 'hello'.\" is valid). Multiline strings are enclosed in triple double (or single) quotes (\"\"\"). Python supports Unicode out of the box, using the syntax u\"This is a unicode string\". To fill a string with values, you use the % (modulo) operator and a tuple. Each %s gets replaced with an item from the tuple, left to right, and you can also use dictionary substitutions, like so:"
   ]
  },
  {
   "cell_type": "code",
   "execution_count": 36,
   "metadata": {
    "collapsed": false
   },
   "outputs": [
    {
     "name": "stdout",
     "output_type": "stream",
     "text": [
      "Name: Poromenos Number: 3 String: ---\n"
     ]
    }
   ],
   "source": [
    "print (\"Name: %s \\\n",
    "Number: %s \\\n",
    "String: %s\" % (\"Poromenos\", 3, 3 * \"-\"))"
   ]
  },
  {
   "cell_type": "code",
   "execution_count": 38,
   "metadata": {
    "collapsed": false
   },
   "outputs": [
    {
     "name": "stdout",
     "output_type": "stream",
     "text": [
      "This is a test.\n"
     ]
    }
   ],
   "source": [
    "strString = \"\"\"This is\n",
    "a multiline\n",
    "string.\"\"\"\n",
    "# WARNING: Watch out for the trailing s in \"%(key)s\".\n",
    "print (\"This %(verb)s a %(noun)s.\" % {\"noun\": \"test\", \"verb\": \"is\"})"
   ]
  },
  {
   "cell_type": "markdown",
   "metadata": {},
   "source": [
    "Déclarations de contrôle de flux\n",
    "Les instructions de contrôle de flux sont if, for et while. Il n'y a pas de commutateur; Utilisez plutôt if. Utiliser pour pour énumérer par les membres d'une liste. Pour obtenir une liste de numéros, utilisez la plage (<nombre>). La syntaxe de ces énoncés est donc:"
   ]
  },
  {
   "cell_type": "code",
   "execution_count": 5,
   "metadata": {
    "collapsed": false
   },
   "outputs": [
    {
     "name": "stdout",
     "output_type": "stream",
     "text": [
      "range(0, 10)\n"
     ]
    }
   ],
   "source": [
    "rangelist = range(10)\n",
    "print (rangelist)"
   ]
  },
  {
   "cell_type": "code",
   "execution_count": null,
   "metadata": {
    "collapsed": false
   },
   "outputs": [
    {
     "name": "stdout",
     "output_type": "stream",
     "text": [
      "Dunno\n"
     ]
    }
   ],
   "source": [
    "for number in rangelist:\n",
    "    # verifier si number est un des\n",
    "    # nombres du tuple\n",
    "    if number in (3, 4, 7, 9):\n",
    "        # \"Break\" termine un for sans\n",
    "        # excecuter le \"else\".\n",
    "        break\n",
    "    else:\n",
    "        # \"Continue\" commence la prochaine iteration\n",
    "        # de la boucle. c'est plutôt inutile ici,\n",
    "        # Comme c'est la dernière déclaration de la boucle.\n",
    "        continue\n",
    "\n",
    "if rangelist[1] == 2:\n",
    "    print (\"The second item (lists are 0-based) is 2\")\n",
    "elif rangelist[1] == 3:\n",
    "    print (\"The second item (lists are 0-based) is 3\")\n",
    "else:\n",
    "    print (\"Dunno\")\n",
    "\n",
    "while rangelist[1] == 1:\n",
    "    pass"
   ]
  },
  {
   "cell_type": "markdown",
   "metadata": {},
   "source": [
    "Functions\n",
    "Les fonctions sont déclarées avec le mot-clé \"def\". Les arguments optionnels sont définis dans la déclaration de fonction après les arguments obligatoires en étant affectés à une valeur par défaut. Pour les arguments nommés, le nom de l'argument est affecté d'une valeur. Les fonctions peuvent retourner un tuple (et en utilisant le déballage tuple, vous pouvez effectivement retourner plusieurs valeurs). Les fonctions Lambda sont des fonctions ad hoc qui sont composées d'une seule instruction. Les paramètres sont transmis par référence, mais les types immuables (tuples, ints, chaînes, etc) * ne peuvent pas être modifiés *. C'est parce que seul l'emplacement de mémoire de l'élément est passé, et la liaison d'un autre objet à une variable ignore l'ancien, donc les types immuables sont remplacés. Par exemple:"
   ]
  },
  {
   "cell_type": "code",
   "execution_count": 3,
   "metadata": {
    "collapsed": false
   },
   "outputs": [
    {
     "data": {
      "text/plain": [
       "2"
      ]
     },
     "execution_count": 3,
     "metadata": {},
     "output_type": "execute_result"
    }
   ],
   "source": [
    "funcvar = lambda x: x + 1\n",
    "funcvar(1)\n"
   ]
  },
  {
   "cell_type": "code",
   "execution_count": 4,
   "metadata": {
    "collapsed": false
   },
   "outputs": [
    {
     "name": "stdout",
     "output_type": "stream",
     "text": [
      "([1, 2, 3, 'A new item'], 4, 'A default string')\n"
     ]
    }
   ],
   "source": [
    "# an_int et a_string sont optionnels, ils ont des valeurs par defaut\n",
    "# if one is not passed (2 and \"A default string\", respectively).\n",
    "def passing_example(a_list, an_int=2, a_string=\"A default string\"):\n",
    "    a_list.append(\"A new item\")\n",
    "    an_int = 4\n",
    "    return a_list, an_int, a_string\n",
    "my_list = [1, 2, 3]\n",
    "my_int = 10\n",
    "print (passing_example(my_list, my_int))"
   ]
  },
  {
   "cell_type": "code",
   "execution_count": 5,
   "metadata": {
    "collapsed": false
   },
   "outputs": [
    {
     "data": {
      "text/plain": [
       "[1, 2, 3, 'A new item']"
      ]
     },
     "execution_count": 5,
     "metadata": {},
     "output_type": "execute_result"
    }
   ],
   "source": [
    "my_list"
   ]
  },
  {
   "cell_type": "code",
   "execution_count": 6,
   "metadata": {
    "collapsed": false
   },
   "outputs": [
    {
     "data": {
      "text/plain": [
       "10"
      ]
     },
     "execution_count": 6,
     "metadata": {},
     "output_type": "execute_result"
    }
   ],
   "source": [
    "my_int"
   ]
  },
  {
   "cell_type": "markdown",
   "metadata": {},
   "source": [
    "CLASSES\n",
    "Python prend en charge une forme limitée d'héritage multiple dans les classes. Les variables et les méthodes privées peuvent être déclarées (par convention, cela n'est pas imposé par la langue) en ajoutant au moins deux caractères de soulignement et au plus un caractère de fin (par exemple \"__spam\").  Nous pouvons également lier des noms arbitraires aux instances de classe. Voici un exemple:"
   ]
  },
  {
   "cell_type": "code",
   "execution_count": 9,
   "metadata": {
    "collapsed": false
   },
   "outputs": [
    {
     "data": {
      "text/plain": [
       "3"
      ]
     },
     "execution_count": 9,
     "metadata": {},
     "output_type": "execute_result"
    }
   ],
   "source": [
    "class MyClass(object):\n",
    "    common = 10\n",
    "    def __init__(self):\n",
    "        self.myvariable = 3\n",
    "    def myfunction(self, arg1, arg2):\n",
    "        return self.myvariable\n",
    "    \n",
    "    # Ceci est une classe d'instanciation\n",
    "classinstance = MyClass()\n",
    "classinstance.myfunction(1, 2)"
   ]
  },
  {
   "cell_type": "code",
   "execution_count": 11,
   "metadata": {
    "collapsed": false
   },
   "outputs": [
    {
     "data": {
      "text/plain": [
       "10"
      ]
     },
     "execution_count": 11,
     "metadata": {},
     "output_type": "execute_result"
    }
   ],
   "source": [
    "# cette variable est partagée par toutes les instances.\n",
    "classinstance2 = MyClass()\n",
    "classinstance.common"
   ]
  },
  {
   "cell_type": "code",
   "execution_count": 12,
   "metadata": {
    "collapsed": false
   },
   "outputs": [
    {
     "data": {
      "text/plain": [
       "10"
      ]
     },
     "execution_count": 12,
     "metadata": {},
     "output_type": "execute_result"
    }
   ],
   "source": [
    "classinstance2.common"
   ]
  },
  {
   "cell_type": "code",
   "execution_count": 14,
   "metadata": {
    "collapsed": false
   },
   "outputs": [
    {
     "data": {
      "text/plain": [
       "30"
      ]
     },
     "execution_count": 14,
     "metadata": {},
     "output_type": "execute_result"
    }
   ],
   "source": [
    "# Notez comment nous utilisons le nom de la classe\n",
    "# au lieu de l'instance\n",
    "MyClass.common = 30\n",
    "classinstance.common"
   ]
  },
  {
   "cell_type": "code",
   "execution_count": 16,
   "metadata": {
    "collapsed": false
   },
   "outputs": [
    {
     "data": {
      "text/plain": [
       "30"
      ]
     },
     "execution_count": 16,
     "metadata": {},
     "output_type": "execute_result"
    }
   ],
   "source": [
    "classinstance2.common"
   ]
  },
  {
   "cell_type": "code",
   "execution_count": 18,
   "metadata": {
    "collapsed": false
   },
   "outputs": [
    {
     "data": {
      "text/plain": [
       "10"
      ]
     },
     "execution_count": 18,
     "metadata": {},
     "output_type": "execute_result"
    }
   ],
   "source": [
    "# ceci ne mettra pas à jour la variable dans la classe,\n",
    "# au lieu de celà il liera un nouvel objet à l'ancien \n",
    "# nom de variable.\n",
    "classinstance.common = 10\n",
    "classinstance.common"
   ]
  },
  {
   "cell_type": "code",
   "execution_count": 19,
   "metadata": {
    "collapsed": false
   },
   "outputs": [
    {
     "data": {
      "text/plain": [
       "30"
      ]
     },
     "execution_count": 19,
     "metadata": {},
     "output_type": "execute_result"
    }
   ],
   "source": [
    "classinstance2.common"
   ]
  },
  {
   "cell_type": "code",
   "execution_count": 22,
   "metadata": {
    "collapsed": false
   },
   "outputs": [
    {
     "data": {
      "text/plain": [
       "10"
      ]
     },
     "execution_count": 22,
     "metadata": {},
     "output_type": "execute_result"
    }
   ],
   "source": [
    "MyClass.common = 50\n",
    "# cela ne change pas, parceque \"common\" est\n",
    "# maintenant une variable d'instance.\n",
    "classinstance.common=10\n",
    "classinstance.common"
   ]
  },
  {
   "cell_type": "code",
   "execution_count": 23,
   "metadata": {
    "collapsed": false
   },
   "outputs": [
    {
     "data": {
      "text/plain": [
       "50"
      ]
     },
     "execution_count": 23,
     "metadata": {},
     "output_type": "execute_result"
    }
   ],
   "source": [
    "classinstance2.common"
   ]
  },
  {
   "cell_type": "code",
   "execution_count": 25,
   "metadata": {
    "collapsed": false
   },
   "outputs": [
    {
     "name": "stdout",
     "output_type": "stream",
     "text": [
      "hello\n"
     ]
    }
   ],
   "source": [
    "# cette classe herite de MyClass. The example\n",
    "# l'exemple Class ci-dessus hérite de \"objet\"\n",
    "#ce qui en fait ce que l'on appelle une \"new-style class\".\n",
    "# L'heritage mutltiple est declaré comme:\n",
    "# class OtherClass(MyClass1, MyClass2, MyClassN)\n",
    "\n",
    "class OtherClass(MyClass):\n",
    "    # l'argument \"self\"  est automatiquement passé\n",
    "    # et reféré à l'instance de classe, \n",
    "    # de sorte que vous puissiez définir des variables d'instance comme ci-dessus,\n",
    "    # mais à l'intérieur de la classe\n",
    "    def __init__(self, arg1):\n",
    "        self.myvariable = 3\n",
    "        print (arg1)\n",
    "classinstance = OtherClass(\"hello\")"
   ]
  },
  {
   "cell_type": "code",
   "execution_count": 26,
   "metadata": {
    "collapsed": false
   },
   "outputs": [
    {
     "data": {
      "text/plain": [
       "3"
      ]
     },
     "execution_count": 26,
     "metadata": {},
     "output_type": "execute_result"
    }
   ],
   "source": [
    "classinstance.myfunction(1, 2)"
   ]
  },
  {
   "cell_type": "code",
   "execution_count": 28,
   "metadata": {
    "collapsed": false
   },
   "outputs": [
    {
     "data": {
      "text/plain": [
       "10"
      ]
     },
     "execution_count": 28,
     "metadata": {},
     "output_type": "execute_result"
    }
   ],
   "source": [
    "# Cette classe n'a pas test member,\n",
    "# mais nous pouvons en ajouter une à l'instance.\n",
    "# Notez que ce sera seulement un membre de classinstance.\n",
    "classinstance.test = 10\n",
    "classinstance.test"
   ]
  },
  {
   "cell_type": "markdown",
   "metadata": {},
   "source": [
    "Exceptions\n",
    "Les exceptions en Python sont gérées avec des blocs try-except [exceptionname]:"
   ]
  },
  {
   "cell_type": "code",
   "execution_count": 31,
   "metadata": {
    "collapsed": false
   },
   "outputs": [
    {
     "name": "stdout",
     "output_type": "stream",
     "text": [
      "Oops, invalid.\n",
      "We're done with that.\n"
     ]
    }
   ],
   "source": [
    "def some_function():\n",
    "    try:\n",
    "        # la dicision par  soulèves une exception\n",
    "        10 / 0\n",
    "    except ZeroDivisionError:\n",
    "        print (\"Oops, invalid.\")\n",
    "    else:\n",
    "        # Pas d'exception\n",
    "        pass\n",
    "    finally:\n",
    "        # Ceci est exécuté après que le bloc de code est exécuté\n",
    "        # et tous les exceptions ont été géré, meme\n",
    "        # si une nouvelle exception  est soulevée pendant la manipulation.\n",
    "        print (\"We're done with that.\")\n",
    "some_function()"
   ]
  }
 ],
 "metadata": {
  "anaconda-cloud": {},
  "kernelspec": {
   "display_name": "Python [default]",
   "language": "python",
   "name": "python3"
  },
  "language_info": {
   "codemirror_mode": {
    "name": "ipython",
    "version": 3
   },
   "file_extension": ".py",
   "mimetype": "text/x-python",
   "name": "python",
   "nbconvert_exporter": "python",
   "pygments_lexer": "ipython3",
   "version": "3.5.2"
  }
 },
 "nbformat": 4,
 "nbformat_minor": 1
}
